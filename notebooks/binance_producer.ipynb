{
 "cells": [
  {
   "cell_type": "code",
   "execution_count": null,
   "metadata": {},
   "outputs": [],
   "source": [
    "from kafka_functions import *\n",
    "from datetime import datetime\n",
    "import websocket\n",
    "import uuid\n",
    ""
   ]
  },
  {
   "cell_type": "code",
   "execution_count": null,
   "metadata": {},
   "outputs": [],
   "source": [
    "def on_open(ws):\n",
    "    print(\"Connection opened\")\n",
    "    # Subscribe to different ticker streams\n",
    "    subscribe_message = {\n",
    "        \"method\": \"SUBSCRIBE\",\n",
    "        \"params\": [\n",
    "            \"btcusdt@ticker\",\n",
    "            \"ethusdt@ticker\",\n",
    "            \"maticusdt@ticker\",\n",
    "            \"shibusdt@ticker\",\n",
    "            \"solusdt@ticker\"\n",
    "        ],\n",
    "        \"id\": 1\n",
    "    }\n",
    "    ws.send(json.dumps(subscribe_message))\n",
    "\n",
    "def on_message(ws, message):\n",
    "    # write data into cluster\n",
    "    key = str(uuid.uuid4())\n",
    "    publish_message(producer, binance_topic, key, message)\n",
    "    print(f\"{datetime.now()}: writing message to cluster: {str(message)[:50]}...\")\n",
    "\n",
    "def on_close(ws):\n",
    "    print(\"Connection closed\")\n",
    ""
   ]
  },
  {
   "cell_type": "code",
   "execution_count": null,
   "metadata": {},
   "outputs": [],
   "source": [
    "if __name__ == \"__main__\":\n",
    "    # Initialize WebSocket connection\n",
    "    ws = websocket.WebSocketApp(\n",
    "        \"wss://stream.binance.com:9443/ws\",\n",
    "        on_open=on_open,\n",
    "        on_message=on_message,\n",
    "        on_close=on_close\n",
    "    )\n",
    "    # Start WebSocket connection\n",
    "    ws.run_forever()"
   ]
  }
 ],
 "nbformat": 4,
 "nbformat_minor": 2,
 "metadata": {
  "language_info": {
   "codemirror_mode": {
    "name": "ipython",
    "version": 3
   },
   "file_extension": ".py",
   "mimetype": "text/x-python",
   "name": "python",
   "nbconvert_exporter": "python",
   "pygments_lexer": "ipython3",
   "version": 3
  },
  "orig_nbformat": 4
 }
}