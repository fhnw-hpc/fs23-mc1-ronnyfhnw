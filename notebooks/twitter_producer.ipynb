{
 "cells": [
  {
   "cell_type": "code",
   "execution_count": null,
   "metadata": {},
   "outputs": [],
   "source": [
    "from kafka_functions import *\n",
    "from datetime import datetime\n",
    "import requests\n",
    "import uuid\n",
    ""
   ]
  },
  {
   "cell_type": "code",
   "execution_count": null,
   "metadata": {},
   "outputs": [],
   "source": [
    "url = \"https://api.twitter.com/2/tweets/search/recent?query=%23crypto%20OR%20%23ethereum%20OR%20%23eth%20OR%20%23btc%20OR%20%23bitcoin&max_results=100&tweet.fields=created_at,text,author_id\"\n",
    "\n",
    "with open(\"secrets.env\", \"r\") as f:\n",
    "    secrets = json.loads(str(f.read()))\n",
    "\n",
    "bearerToken = secrets['bearerToken']\n",
    "timestamp_last_request = datetime.now(), datetime.now()\n",
    ""
   ]
  },
  {
   "cell_type": "code",
   "execution_count": null,
   "metadata": {},
   "outputs": [],
   "source": [
    "if __name__ == \"__main__\":\n",
    "    # time limit to stay within api regulations\n",
    "    if (datetime.now() - timestamp_last_request).seconds > 10:\n",
    "        # get tweets\n",
    "        tweets = json.loads(requests.get(url=url, headers={'Authorization': f\"Bearer {bearerToken}\"}).text)['data']\n",
    "        for tweet in tweets:\n",
    "            # formatting for json serializing\n",
    "            formatted_tweet = json.dumps(tweet)\n",
    "            \n",
    "            # write to cluster\n",
    "            key = str(uuid.uuid4())\n",
    "            publish_message(producer, twitter_topic, key, formatted_tweet)\n",
    "            print(f\"{datetime.now()}: writing message to cluster: {formatted_tweet[:50]}...\")\n",
    "            \n",
    "        timestamp_last_request = datetime.now()"
   ]
  }
 ],
 "nbformat": 4,
 "nbformat_minor": 2,
 "metadata": {
  "language_info": {
   "codemirror_mode": {
    "name": "ipython",
    "version": 3
   },
   "file_extension": ".py",
   "mimetype": "text/x-python",
   "name": "python",
   "nbconvert_exporter": "python",
   "pygments_lexer": "ipython3",
   "version": 3
  },
  "orig_nbformat": 4
 }
}